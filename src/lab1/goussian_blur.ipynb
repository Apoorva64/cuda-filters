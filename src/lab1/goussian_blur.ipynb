{
 "cells": [
  {
   "cell_type": "code",
   "execution_count": 41,
   "outputs": [],
   "source": [
    "%matplotlib inline"
   ],
   "metadata": {
    "collapsed": false,
    "ExecuteTime": {
     "end_time": "2024-04-21T16:32:15.500949200Z",
     "start_time": "2024-04-21T16:32:15.487595300Z"
    }
   },
   "id": "acbe6727b434f52c"
  },
  {
   "cell_type": "code",
   "execution_count": 42,
   "id": "initial_id",
   "metadata": {
    "collapsed": true,
    "ExecuteTime": {
     "end_time": "2024-04-21T16:32:15.539301600Z",
     "start_time": "2024-04-21T16:32:15.496627Z"
    }
   },
   "outputs": [],
   "source": [
    "import numpy as np\n",
    "from numba import cuda\n",
    "from PIL import Image\n",
    "import sys\n",
    "import os\n",
    "from pathlib import Path\n",
    "\n",
    "\n",
    "def get_local_folder():\n",
    "    return Path.cwd()\n",
    "\n",
    "\n",
    "stdout = sys.stdout\n",
    "\n",
    "DATA_PATH = get_local_folder().parent.parent / 'data'\n",
    "\n",
    "\n",
    "# load example image from pillow\n",
    "# img = Image.fromarray(np.random.randint(0, 255, (12, 12, 3), dtype=np.uint8))\n",
    "# \n",
    "def load_image():\n",
    "    img = Image.open(DATA_PATH / 'img.jpg')\n",
    "    # convert to rgb\n",
    "    img = img.convert('RGB')\n",
    "\n",
    "    return np.array(img, dtype=np.float32)\n"
   ]
  },
  {
   "cell_type": "code",
   "execution_count": 43,
   "outputs": [],
   "source": [
    "def gkern(l=5, sig=1.):\n",
    "    \"\"\"\\\n",
    "    creates gaussian kernel with side length `l` and a sigma of `sig`\n",
    "    \"\"\"\n",
    "    ax = np.linspace(-(l - 1) / 2., (l - 1) / 2., l)\n",
    "    gauss = np.exp(-0.5 * np.square(ax) / np.square(sig))\n",
    "    kernel = np.outer(gauss, gauss)\n",
    "    return kernel / np.sum(kernel)\n",
    "\n",
    "\n",
    "# create a gaussian kernel\n",
    "KERNEL_SIZE = 64\n",
    "kernel = gkern(KERNEL_SIZE, 50)"
   ],
   "metadata": {
    "collapsed": false,
    "ExecuteTime": {
     "end_time": "2024-04-21T16:32:15.549009500Z",
     "start_time": "2024-04-21T16:32:15.510998600Z"
    }
   },
   "id": "e1e1be8a410136aa"
  },
  {
   "cell_type": "code",
   "execution_count": 44,
   "outputs": [],
   "source": [
    "from numba import float32\n",
    "\n",
    "\n",
    "# apply a convolution filter\n",
    "@cuda.jit()\n",
    "def convolve_single_channel(result, mask, image):\n",
    "    # expects a 2D grid and 2D blocks,\n",
    "    # a grayscale image with 1 channel.\n",
    "\n",
    "    # (-2-) 2D coordinates of the current thread:\n",
    "    i, j = cuda.grid(2)\n",
    "\n",
    "    # (-3-) if the thread coordinates are outside of the image, we ignore the thread:\n",
    "    image_rows, image_cols = image.shape\n",
    "    if (i >= image_rows) or (j >= image_cols):\n",
    "        return\n",
    "\n",
    "    # (-4-) initialize the result for the current pixel:\n",
    "    result[i, j] = 0\n",
    "\n",
    "    delta = mask.shape[0] // 2\n",
    "\n",
    "    # (-5-) iterate over the mask:\n",
    "    for x in range(-delta, delta + 1):\n",
    "        for y in range(-delta, delta + 1):\n",
    "            if i + x >= 0 and i + x < image_rows and j + y >= 0 and j + y < image_cols:\n",
    "                result[i, j] += image[i + x, j + y] * mask[x + delta, y + delta]\n",
    "\n",
    "\n",
    "@cuda.jit\n",
    "def convolve_multi_channel(result, mask, image):\n",
    "    # expects a 2D grid and 2D blocks,\n",
    "    # a RGB image with 3 channels.\n",
    "\n",
    "    # (-2-) 2D coordinates of the current thread:\n",
    "    i, j = cuda.grid(2)\n",
    "\n",
    "    # (-3-) if the thread coordinates are outside of the image, we ignore the thread:\n",
    "    image_rows, image_cols, n_channels = image.shape\n",
    "\n",
    "    if (i >= image_rows) or (j >= image_cols):\n",
    "        return\n",
    "\n",
    "    # (-4-) initialize the result for the current pixel:\n",
    "    for c in range(n_channels):\n",
    "        result[i, j][c] = 0\n",
    "\n",
    "    delta = mask.shape[0] // 2\n",
    "\n",
    "    # (-5-) iterate over the mask:\n",
    "    for x in range(-delta, delta + 1):\n",
    "        if i + x < 0 or i + x >= image_rows:\n",
    "            continue\n",
    "        for y in range(-delta, delta + 1):\n",
    "            if j + y < 0 or j + y >= image_cols:\n",
    "                continue\n",
    "            for c in range(n_channels):\n",
    "                result[i, j][c] += image[i + x, j + y][c] * mask[x + delta, y + delta]\n",
    "\n",
    "\n",
    "@cuda.jit\n",
    "def convolve_mask_local_copy(result, mask, image):\n",
    "    # expects a 2D grid and 2D blocks,\n",
    "    # a RGB image with 3 channels.\n",
    "\n",
    "    # copy mask to local memory\n",
    "    mask_local = cuda.shared.array((KERNEL_SIZE, KERNEL_SIZE), np.float32)\n",
    "\n",
    "    # copy mask to local memory\n",
    "    for i in range(KERNEL_SIZE):\n",
    "        for j in range(KERNEL_SIZE):\n",
    "            mask_local[i, j] = mask[i, j]\n",
    "            \n",
    "    # synchronize threads\n",
    "    cuda.syncthreads()\n",
    "\n",
    "    # (-2-) 2D coordinates of the current thread:\n",
    "    i, j = cuda.grid(2)\n",
    "\n",
    "    # (-3-) if the thread coordinates are outside of the image, we ignore the thread:\n",
    "    image_rows, image_cols, n_channels = image.shape\n",
    "\n",
    "    if (i >= image_rows) or (j >= image_cols):\n",
    "        return\n",
    "\n",
    "    delta = mask_local.shape[0] // 2\n",
    "\n",
    "    # (-5-) iterate over the mask:\n",
    "    # (-5-) iterate over the mask:\n",
    "    for x in range(-delta, delta + 1):\n",
    "        if i + x < 0 or i + x >= image_rows:\n",
    "            continue\n",
    "        for y in range(-delta, delta + 1):\n",
    "            if j + y < 0 or j + y >= image_cols:\n",
    "                continue\n",
    "            for c in range(n_channels):\n",
    "                result[i, j][c] += image[i + x, j + y][c] * mask_local[x + delta, y + delta]\n",
    "\n",
    "\n",
    "@cuda.jit\n",
    "def convolve_no_checks(result, mask, image):\n",
    "    # expects a 2D grid and 2D blocks,\n",
    "    # a RGB image with 3 channels.\n",
    "\n",
    "    # (-2-) 2D coordinates of the current thread:\n",
    "    i, j = cuda.grid(2)\n",
    "    # (-3-) if the thread coordinates are outside of the image, we ignore the thread:\n",
    "    image_rows, image_cols, n_channels = image.shape\n",
    "\n",
    "    if not ((i >= image_rows) or (j >= image_cols)):\n",
    "        # (-5-) iterate over the mask:\n",
    "        for x in range(mask.shape[0]):\n",
    "            for y in range(mask.shape[1]):\n",
    "                for c in range(n_channels):\n",
    "                    result[i, j][c] += image[i + x, j + y][c] * mask[x, y]\n"
   ],
   "metadata": {
    "collapsed": false,
    "ExecuteTime": {
     "end_time": "2024-04-21T16:32:15.549009500Z",
     "start_time": "2024-04-21T16:32:15.525714900Z"
    }
   },
   "id": "fe2b550dd7a4f163"
  },
  {
   "cell_type": "code",
   "execution_count": 45,
   "outputs": [],
   "source": [
    "# calculate cuda grid and block dimensions\n",
    "\n",
    "def get_grid_block(image):\n",
    "    gpu = cuda.get_current_device()\n",
    "    threadsperblock = (gpu.WARP_SIZE, gpu.WARP_SIZE)\n",
    "    blockspergrid_x = (image.shape[0] + threadsperblock[0] - 1) // threadsperblock[0]\n",
    "    blockspergrid_y = (image.shape[1] + threadsperblock[1] - 1) // threadsperblock[1]\n",
    "    blockspergrid = (blockspergrid_x, blockspergrid_y)\n",
    "    return threadsperblock, blockspergrid\n",
    "\n",
    "\n"
   ],
   "metadata": {
    "collapsed": false,
    "ExecuteTime": {
     "end_time": "2024-04-21T16:32:15.571231100Z",
     "start_time": "2024-04-21T16:32:15.544899400Z"
    }
   },
   "id": "61bb49cffaf1835e"
  },
  {
   "cell_type": "code",
   "execution_count": 46,
   "outputs": [],
   "source": [
    "\n",
    "\n",
    "def load_into_device(image, output, kernel):\n",
    "    # create a cuda device array\n",
    "    d_input = cuda.to_device(image)\n",
    "    d_output = cuda.to_device(output)\n",
    "    d_kernel = cuda.to_device(kernel)\n",
    "    return d_input, d_output, d_kernel\n",
    "\n",
    "\n",
    "def load_into_device_stream(image, output, kernel, stream):\n",
    "    # create a cuda device array\n",
    "    d_input = cuda.to_device(image, stream)\n",
    "    d_output = cuda.to_device(output, stream)\n",
    "    d_kernel = cuda.to_device(kernel, stream)\n",
    "    return d_input, d_output, d_kernel\n",
    "\n",
    "\n"
   ],
   "metadata": {
    "collapsed": false,
    "ExecuteTime": {
     "end_time": "2024-04-21T16:32:15.588148Z",
     "start_time": "2024-04-21T16:32:15.559430Z"
    }
   },
   "id": "da8a40145575ec43"
  },
  {
   "cell_type": "code",
   "execution_count": 47,
   "outputs": [],
   "source": [
    "# test the performance of the convolution\n",
    "import time\n",
    "\n",
    "\n",
    "def test_convolution(image, kernel, n=5, func=convolve_multi_channel):\n",
    "    # create output array\n",
    "    output = np.zeros(image.shape, dtype=np.float32)\n",
    "\n",
    "    # create a cuda device array\n",
    "    d_input, d_output, d_kernel = load_into_device(image, output, kernel)\n",
    "\n",
    "    # create a grid\n",
    "    threadsperblock, blockspergrid = get_grid_block(image)\n",
    "    times = []\n",
    "    # run the kernel\n",
    "    for i in range(n):\n",
    "        start = time.time()\n",
    "        func[blockspergrid, threadsperblock](d_output, d_kernel, d_input)\n",
    "        cuda.synchronize()\n",
    "        end = time.time()\n",
    "        times.append(end - start)\n",
    "        # set the output to zero if not the last iteration\n",
    "        if i < n - 1:\n",
    "            d_output.copy_to_host(output, )\n",
    "            output.fill(0)\n",
    "            d_output.copy_to_device(output)\n",
    "\n",
    "    # copy the output back to the host\n",
    "    d_output.copy_to_host(output, )\n",
    "\n",
    "    return times, output\n",
    "\n",
    "\n"
   ],
   "metadata": {
    "collapsed": false,
    "ExecuteTime": {
     "end_time": "2024-04-21T16:32:15.589147300Z",
     "start_time": "2024-04-21T16:32:15.576260200Z"
    }
   },
   "id": "13719a159bed9927"
  },
  {
   "cell_type": "code",
   "execution_count": 48,
   "outputs": [
    {
     "data": {
      "text/plain": "<Figure size 640x480 with 1 Axes>",
      "image/png": "[encoded data removed]"
     },
     "metadata": {},
     "output_type": "display_data"
    }
   ],
   "source": [
    "# Performance test\n",
    "import matplotlib.pyplot as plt\n",
    "\n",
    "time_taken_convolution_multi_channel_local_copy, output = test_convolution(load_image(), kernel, n=1,\n",
    "                                                                           func=convolve_multi_channel)\n",
    "\n",
    "time_taken_convolution_multi_channel, _ = test_convolution(load_image(), kernel, n=3, func=convolve_multi_channel)\n",
    "\n",
    "time_taken_convolution_no_checks, _ = test_convolution(load_image(), kernel, n=3, func=convolve_no_checks)\n",
    "\n",
    "plt.plot(time_taken_convolution_multi_channel, label='multi channel')\n",
    "plt.plot(time_taken_convolution_multi_channel_local_copy, label='multi channel local copy')\n",
    "plt.plot(time_taken_convolution_no_checks, label='no checks')\n",
    "plt.xlabel('iteration')\n",
    "plt.ylabel('time taken')\n",
    "plt.legend()\n",
    "\n",
    "plt.title('Time taken for convolution (no loading)')\n",
    "\n",
    "plt.show()\n",
    "\n",
    "\n",
    "\n",
    "\n"
   ],
   "metadata": {
    "collapsed": false,
    "ExecuteTime": {
     "end_time": "2024-04-21T16:32:17.447852800Z",
     "start_time": "2024-04-21T16:32:15.592586600Z"
    }
   },
   "id": "1b4b8d3cadb29f3a"
  },
  {
   "cell_type": "code",
   "execution_count": 50,
   "outputs": [],
   "source": [
    "# Kernel size and gaussian sigma test\n",
    "kernel_sizes = [3, 5, 7, 9, 11, 13, 15, 17, 19, 21,32, 64, 128, 256]\n",
    "sigmas = [1, 5, 10, 20, 50, 100, 200]\n",
    "\n",
    "SAVE_LOCATION = DATA_PATH / 'kernel_tests'\n",
    "\n",
    "SAVE_LOCATION.mkdir(exist_ok=True)\n",
    "for i, kernel_size in enumerate(kernel_sizes):\n",
    "    for j, sigma in enumerate(sigmas):\n",
    "        kernel = gkern(kernel_size, sigma)\n",
    "        output = test_convolution(load_image(), kernel, n=1, func=convolve_multi_channel)[1]\n",
    "        # save the output\n",
    "        output = Image.fromarray(output.astype(np.uint8))\n",
    "        output.save(SAVE_LOCATION / f'output_{kernel_size}_{sigma}.jpg')"
   ],
   "metadata": {
    "collapsed": false,
    "ExecuteTime": {
     "end_time": "2024-04-21T16:59:05.404773900Z",
     "start_time": "2024-04-21T16:34:59.629212200Z"
    }
   },
   "id": "3c61d89c935f7f32"
  },
  {
   "cell_type": "code",
   "execution_count": 25,
   "outputs": [],
   "source": [
    "# grayscale\n",
    "\n",
    "@cuda.jit\n",
    "def grayscale(result, image):\n",
    "    # expects a 2D grid and 2D blocks,\n",
    "    # a RGB image with 3 channels.\n",
    "\n",
    "    # (-2-) 2D coordinates of the current thread:\n",
    "    i, j = cuda.grid(2)\n",
    "\n",
    "    # (-3-) if the thread coordinates are outside of the image, we ignore the thread:\n",
    "    image_rows, image_cols, _ = image.shape\n",
    "    if (i >= image_rows) or (j >= image_cols):\n",
    "        return\n",
    "\n",
    "    # (-4-) initialize the result for the current pixel:\n",
    "    result[i, j] = 0\n",
    "\n",
    "    # (-5-) iterate over the mask:\n",
    "    for c in range(image.shape[2]):\n",
    "        result[i, j] += image[i, j][c] / 3"
   ],
   "metadata": {
    "collapsed": false,
    "ExecuteTime": {
     "end_time": "2024-04-21T16:08:28.621545600Z",
     "start_time": "2024-04-21T16:08:28.579594500Z"
    }
   },
   "id": "84882922e0d7d87e"
  },
  {
   "cell_type": "code",
   "execution_count": 180,
   "outputs": [],
   "source": [
    "# create output array\n",
    "output = np.zeros(img.shape[:2], dtype=np.float32)\n",
    "\n",
    "# create a cuda device array\n",
    "d_input = cuda.to_device(img, stream)\n",
    "d_output = cuda.to_device(output, stream)\n",
    "\n",
    "# create a grid\n",
    "threadsperblock = (16, 16)\n",
    "blockspergrid_x = (img.shape[0] + threadsperblock[0] - 1) // threadsperblock[0]\n",
    "blockspergrid_y = (img.shape[1] + threadsperblock[1] - 1) // threadsperblock[1]\n",
    "blockspergrid = (blockspergrid_x, blockspergrid_y)\n",
    "\n",
    "# run the kernel\n",
    "grayscale[blockspergrid, threadsperblock, stream](d_output, d_input)\n",
    "\n",
    "# stream the output back to the host\n",
    "d_output.copy_to_host(output, stream=stream)\n",
    "stream.synchronize()\n"
   ],
   "metadata": {
    "collapsed": false,
    "ExecuteTime": {
     "end_time": "2024-04-21T14:34:06.820602800Z",
     "start_time": "2024-04-21T14:34:06.621234500Z"
    }
   },
   "id": "c5d5b8ec2c428eea"
  },
  {
   "cell_type": "code",
   "execution_count": 181,
   "outputs": [],
   "source": [
    "# display the output\n",
    "output = Image.fromarray(output)\n",
    "output.show()"
   ],
   "metadata": {
    "collapsed": false,
    "ExecuteTime": {
     "end_time": "2024-04-21T14:34:16.030059Z",
     "start_time": "2024-04-21T14:34:09.073667200Z"
    }
   },
   "id": "d9e9d3294991c70"
  },
  {
   "cell_type": "code",
   "execution_count": 29,
   "outputs": [
    {
     "ename": "TypingError",
     "evalue": "Failed in cuda mode pipeline (step: nopython frontend)\n\u001B[1m\u001B[1m('wrong tuple length for $18load_attr.8: ', 'expected 2, got 3')\u001B[0m\n\u001B[0m\u001B[1mDuring: typing of exhaust iter at C:\\Users\\appad\\AppData\\Local\\Temp\\ipykernel_36620\\955992347.py (14)\u001B[0m\n\u001B[1m\nFile \"C:\\Users\\appad\\AppData\\Local\\Temp\\ipykernel_36620\\955992347.py\", line 14:\u001B[0m\n\u001B[1mdef convolve(result, mask, image):\n    <source elided>\n    # (-3-) if the thread coordinates are outside of the image, we ignore the thread:\n\u001B[1m    image_rows, image_cols = image.shape\n\u001B[0m    \u001B[1m^\u001B[0m\u001B[0m\n",
     "output_type": "error",
     "traceback": [
      "\u001B[1;31m---------------------------------------------------------------------------\u001B[0m",
      "\u001B[1;31mTypingError\u001B[0m                               Traceback (most recent call last)",
      "Cell \u001B[1;32mIn[29], line 28\u001B[0m\n\u001B[0;32m     25\u001B[0m d_scharr \u001B[38;5;241m=\u001B[39m cuda\u001B[38;5;241m.\u001B[39mto_device(scharr, stream)\n\u001B[0;32m     27\u001B[0m \u001B[38;5;66;03m# run the kernel\u001B[39;00m\n\u001B[1;32m---> 28\u001B[0m \u001B[43mconvolve\u001B[49m\u001B[43m[\u001B[49m\u001B[43mblockspergrid\u001B[49m\u001B[43m,\u001B[49m\u001B[43m \u001B[49m\u001B[43mthreadsperblock\u001B[49m\u001B[43m,\u001B[49m\u001B[43m \u001B[49m\u001B[43mstream\u001B[49m\u001B[43m]\u001B[49m\u001B[43m(\u001B[49m\u001B[43md_output_x\u001B[49m\u001B[43m,\u001B[49m\u001B[43m \u001B[49m\u001B[43md_sobel_x\u001B[49m\u001B[43m,\u001B[49m\u001B[43m \u001B[49m\u001B[43md_input\u001B[49m\u001B[43m)\u001B[49m\n\u001B[0;32m     29\u001B[0m convolve[blockspergrid, threadsperblock, stream](d_output_y, d_sobel_y, d_input)\n\u001B[0;32m     30\u001B[0m convolve[blockspergrid, threadsperblock, stream](d_output_scharr, d_scharr, d_input)\n",
      "File \u001B[1;32mD:\\anaconda\\envs\\gpu\\lib\\site-packages\\numba\\cuda\\dispatcher.py:539\u001B[0m, in \u001B[0;36m_LaunchConfiguration.__call__\u001B[1;34m(self, *args)\u001B[0m\n\u001B[0;32m    538\u001B[0m \u001B[38;5;28;01mdef\u001B[39;00m \u001B[38;5;21m__call__\u001B[39m(\u001B[38;5;28mself\u001B[39m, \u001B[38;5;241m*\u001B[39margs):\n\u001B[1;32m--> 539\u001B[0m     \u001B[38;5;28;01mreturn\u001B[39;00m \u001B[38;5;28;43mself\u001B[39;49m\u001B[38;5;241;43m.\u001B[39;49m\u001B[43mdispatcher\u001B[49m\u001B[38;5;241;43m.\u001B[39;49m\u001B[43mcall\u001B[49m\u001B[43m(\u001B[49m\u001B[43margs\u001B[49m\u001B[43m,\u001B[49m\u001B[43m \u001B[49m\u001B[38;5;28;43mself\u001B[39;49m\u001B[38;5;241;43m.\u001B[39;49m\u001B[43mgriddim\u001B[49m\u001B[43m,\u001B[49m\u001B[43m \u001B[49m\u001B[38;5;28;43mself\u001B[39;49m\u001B[38;5;241;43m.\u001B[39;49m\u001B[43mblockdim\u001B[49m\u001B[43m,\u001B[49m\n\u001B[0;32m    540\u001B[0m \u001B[43m                                \u001B[49m\u001B[38;5;28;43mself\u001B[39;49m\u001B[38;5;241;43m.\u001B[39;49m\u001B[43mstream\u001B[49m\u001B[43m,\u001B[49m\u001B[43m \u001B[49m\u001B[38;5;28;43mself\u001B[39;49m\u001B[38;5;241;43m.\u001B[39;49m\u001B[43msharedmem\u001B[49m\u001B[43m)\u001B[49m\n",
      "File \u001B[1;32mD:\\anaconda\\envs\\gpu\\lib\\site-packages\\numba\\cuda\\dispatcher.py:673\u001B[0m, in \u001B[0;36mCUDADispatcher.call\u001B[1;34m(self, args, griddim, blockdim, stream, sharedmem)\u001B[0m\n\u001B[0;32m    671\u001B[0m     kernel \u001B[38;5;241m=\u001B[39m \u001B[38;5;28mnext\u001B[39m(\u001B[38;5;28miter\u001B[39m(\u001B[38;5;28mself\u001B[39m\u001B[38;5;241m.\u001B[39moverloads\u001B[38;5;241m.\u001B[39mvalues()))\n\u001B[0;32m    672\u001B[0m \u001B[38;5;28;01melse\u001B[39;00m:\n\u001B[1;32m--> 673\u001B[0m     kernel \u001B[38;5;241m=\u001B[39m \u001B[43m_dispatcher\u001B[49m\u001B[38;5;241;43m.\u001B[39;49m\u001B[43mDispatcher\u001B[49m\u001B[38;5;241;43m.\u001B[39;49m\u001B[43m_cuda_call\u001B[49m\u001B[43m(\u001B[49m\u001B[38;5;28;43mself\u001B[39;49m\u001B[43m,\u001B[49m\u001B[43m \u001B[49m\u001B[38;5;241;43m*\u001B[39;49m\u001B[43margs\u001B[49m\u001B[43m)\u001B[49m\n\u001B[0;32m    675\u001B[0m kernel\u001B[38;5;241m.\u001B[39mlaunch(args, griddim, blockdim, stream, sharedmem)\n",
      "File \u001B[1;32mD:\\anaconda\\envs\\gpu\\lib\\site-packages\\numba\\cuda\\dispatcher.py:681\u001B[0m, in \u001B[0;36mCUDADispatcher._compile_for_args\u001B[1;34m(self, *args, **kws)\u001B[0m\n\u001B[0;32m    679\u001B[0m \u001B[38;5;28;01massert\u001B[39;00m \u001B[38;5;129;01mnot\u001B[39;00m kws\n\u001B[0;32m    680\u001B[0m argtypes \u001B[38;5;241m=\u001B[39m [\u001B[38;5;28mself\u001B[39m\u001B[38;5;241m.\u001B[39mtypeof_pyval(a) \u001B[38;5;28;01mfor\u001B[39;00m a \u001B[38;5;129;01min\u001B[39;00m args]\n\u001B[1;32m--> 681\u001B[0m \u001B[38;5;28;01mreturn\u001B[39;00m \u001B[38;5;28;43mself\u001B[39;49m\u001B[38;5;241;43m.\u001B[39;49m\u001B[43mcompile\u001B[49m\u001B[43m(\u001B[49m\u001B[38;5;28;43mtuple\u001B[39;49m\u001B[43m(\u001B[49m\u001B[43margtypes\u001B[49m\u001B[43m)\u001B[49m\u001B[43m)\u001B[49m\n",
      "File \u001B[1;32mD:\\anaconda\\envs\\gpu\\lib\\site-packages\\numba\\cuda\\dispatcher.py:924\u001B[0m, in \u001B[0;36mCUDADispatcher.compile\u001B[1;34m(self, sig)\u001B[0m\n\u001B[0;32m    921\u001B[0m \u001B[38;5;28;01mif\u001B[39;00m \u001B[38;5;129;01mnot\u001B[39;00m \u001B[38;5;28mself\u001B[39m\u001B[38;5;241m.\u001B[39m_can_compile:\n\u001B[0;32m    922\u001B[0m     \u001B[38;5;28;01mraise\u001B[39;00m \u001B[38;5;167;01mRuntimeError\u001B[39;00m(\u001B[38;5;124m\"\u001B[39m\u001B[38;5;124mCompilation disabled\u001B[39m\u001B[38;5;124m\"\u001B[39m)\n\u001B[1;32m--> 924\u001B[0m kernel \u001B[38;5;241m=\u001B[39m _Kernel(\u001B[38;5;28mself\u001B[39m\u001B[38;5;241m.\u001B[39mpy_func, argtypes, \u001B[38;5;241m*\u001B[39m\u001B[38;5;241m*\u001B[39m\u001B[38;5;28mself\u001B[39m\u001B[38;5;241m.\u001B[39mtargetoptions)\n\u001B[0;32m    925\u001B[0m \u001B[38;5;66;03m# We call bind to force codegen, so that there is a cubin to cache\u001B[39;00m\n\u001B[0;32m    926\u001B[0m kernel\u001B[38;5;241m.\u001B[39mbind()\n",
      "File \u001B[1;32mD:\\anaconda\\envs\\gpu\\lib\\site-packages\\numba\\core\\compiler_lock.py:35\u001B[0m, in \u001B[0;36m_CompilerLock.__call__.<locals>._acquire_compile_lock\u001B[1;34m(*args, **kwargs)\u001B[0m\n\u001B[0;32m     32\u001B[0m \u001B[38;5;129m@functools\u001B[39m\u001B[38;5;241m.\u001B[39mwraps(func)\n\u001B[0;32m     33\u001B[0m \u001B[38;5;28;01mdef\u001B[39;00m \u001B[38;5;21m_acquire_compile_lock\u001B[39m(\u001B[38;5;241m*\u001B[39margs, \u001B[38;5;241m*\u001B[39m\u001B[38;5;241m*\u001B[39mkwargs):\n\u001B[0;32m     34\u001B[0m     \u001B[38;5;28;01mwith\u001B[39;00m \u001B[38;5;28mself\u001B[39m:\n\u001B[1;32m---> 35\u001B[0m         \u001B[38;5;28;01mreturn\u001B[39;00m func(\u001B[38;5;241m*\u001B[39margs, \u001B[38;5;241m*\u001B[39m\u001B[38;5;241m*\u001B[39mkwargs)\n",
      "File \u001B[1;32mD:\\anaconda\\envs\\gpu\\lib\\site-packages\\numba\\cuda\\dispatcher.py:83\u001B[0m, in \u001B[0;36m_Kernel.__init__\u001B[1;34m(self, py_func, argtypes, link, debug, lineinfo, inline, fastmath, extensions, max_registers, opt, device)\u001B[0m\n\u001B[0;32m     77\u001B[0m nvvm_options \u001B[38;5;241m=\u001B[39m {\n\u001B[0;32m     78\u001B[0m     \u001B[38;5;124m'\u001B[39m\u001B[38;5;124mfastmath\u001B[39m\u001B[38;5;124m'\u001B[39m: fastmath,\n\u001B[0;32m     79\u001B[0m     \u001B[38;5;124m'\u001B[39m\u001B[38;5;124mopt\u001B[39m\u001B[38;5;124m'\u001B[39m: \u001B[38;5;241m3\u001B[39m \u001B[38;5;28;01mif\u001B[39;00m opt \u001B[38;5;28;01melse\u001B[39;00m \u001B[38;5;241m0\u001B[39m\n\u001B[0;32m     80\u001B[0m }\n\u001B[0;32m     82\u001B[0m cc \u001B[38;5;241m=\u001B[39m get_current_device()\u001B[38;5;241m.\u001B[39mcompute_capability\n\u001B[1;32m---> 83\u001B[0m cres \u001B[38;5;241m=\u001B[39m \u001B[43mcompile_cuda\u001B[49m\u001B[43m(\u001B[49m\u001B[38;5;28;43mself\u001B[39;49m\u001B[38;5;241;43m.\u001B[39;49m\u001B[43mpy_func\u001B[49m\u001B[43m,\u001B[49m\u001B[43m \u001B[49m\u001B[43mtypes\u001B[49m\u001B[38;5;241;43m.\u001B[39;49m\u001B[43mvoid\u001B[49m\u001B[43m,\u001B[49m\u001B[43m \u001B[49m\u001B[38;5;28;43mself\u001B[39;49m\u001B[38;5;241;43m.\u001B[39;49m\u001B[43margtypes\u001B[49m\u001B[43m,\u001B[49m\n\u001B[0;32m     84\u001B[0m \u001B[43m                    \u001B[49m\u001B[43mdebug\u001B[49m\u001B[38;5;241;43m=\u001B[39;49m\u001B[38;5;28;43mself\u001B[39;49m\u001B[38;5;241;43m.\u001B[39;49m\u001B[43mdebug\u001B[49m\u001B[43m,\u001B[49m\n\u001B[0;32m     85\u001B[0m \u001B[43m                    \u001B[49m\u001B[43mlineinfo\u001B[49m\u001B[38;5;241;43m=\u001B[39;49m\u001B[43mlineinfo\u001B[49m\u001B[43m,\u001B[49m\n\u001B[0;32m     86\u001B[0m \u001B[43m                    \u001B[49m\u001B[43minline\u001B[49m\u001B[38;5;241;43m=\u001B[39;49m\u001B[43minline\u001B[49m\u001B[43m,\u001B[49m\n\u001B[0;32m     87\u001B[0m \u001B[43m                    \u001B[49m\u001B[43mfastmath\u001B[49m\u001B[38;5;241;43m=\u001B[39;49m\u001B[43mfastmath\u001B[49m\u001B[43m,\u001B[49m\n\u001B[0;32m     88\u001B[0m \u001B[43m                    \u001B[49m\u001B[43mnvvm_options\u001B[49m\u001B[38;5;241;43m=\u001B[39;49m\u001B[43mnvvm_options\u001B[49m\u001B[43m,\u001B[49m\n\u001B[0;32m     89\u001B[0m \u001B[43m                    \u001B[49m\u001B[43mcc\u001B[49m\u001B[38;5;241;43m=\u001B[39;49m\u001B[43mcc\u001B[49m\u001B[43m)\u001B[49m\n\u001B[0;32m     90\u001B[0m tgt_ctx \u001B[38;5;241m=\u001B[39m cres\u001B[38;5;241m.\u001B[39mtarget_context\n\u001B[0;32m     91\u001B[0m code \u001B[38;5;241m=\u001B[39m \u001B[38;5;28mself\u001B[39m\u001B[38;5;241m.\u001B[39mpy_func\u001B[38;5;241m.\u001B[39m\u001B[38;5;18m__code__\u001B[39m\n",
      "File \u001B[1;32mD:\\anaconda\\envs\\gpu\\lib\\site-packages\\numba\\core\\compiler_lock.py:35\u001B[0m, in \u001B[0;36m_CompilerLock.__call__.<locals>._acquire_compile_lock\u001B[1;34m(*args, **kwargs)\u001B[0m\n\u001B[0;32m     32\u001B[0m \u001B[38;5;129m@functools\u001B[39m\u001B[38;5;241m.\u001B[39mwraps(func)\n\u001B[0;32m     33\u001B[0m \u001B[38;5;28;01mdef\u001B[39;00m \u001B[38;5;21m_acquire_compile_lock\u001B[39m(\u001B[38;5;241m*\u001B[39margs, \u001B[38;5;241m*\u001B[39m\u001B[38;5;241m*\u001B[39mkwargs):\n\u001B[0;32m     34\u001B[0m     \u001B[38;5;28;01mwith\u001B[39;00m \u001B[38;5;28mself\u001B[39m:\n\u001B[1;32m---> 35\u001B[0m         \u001B[38;5;28;01mreturn\u001B[39;00m func(\u001B[38;5;241m*\u001B[39margs, \u001B[38;5;241m*\u001B[39m\u001B[38;5;241m*\u001B[39mkwargs)\n",
      "File \u001B[1;32mD:\\anaconda\\envs\\gpu\\lib\\site-packages\\numba\\cuda\\compiler.py:196\u001B[0m, in \u001B[0;36mcompile_cuda\u001B[1;34m(pyfunc, return_type, args, debug, lineinfo, inline, fastmath, nvvm_options, cc)\u001B[0m\n\u001B[0;32m    194\u001B[0m \u001B[38;5;28;01mfrom\u001B[39;00m \u001B[38;5;21;01mnumba\u001B[39;00m\u001B[38;5;21;01m.\u001B[39;00m\u001B[38;5;21;01mcore\u001B[39;00m\u001B[38;5;21;01m.\u001B[39;00m\u001B[38;5;21;01mtarget_extension\u001B[39;00m \u001B[38;5;28;01mimport\u001B[39;00m target_override\n\u001B[0;32m    195\u001B[0m \u001B[38;5;28;01mwith\u001B[39;00m target_override(\u001B[38;5;124m'\u001B[39m\u001B[38;5;124mcuda\u001B[39m\u001B[38;5;124m'\u001B[39m):\n\u001B[1;32m--> 196\u001B[0m     cres \u001B[38;5;241m=\u001B[39m \u001B[43mcompiler\u001B[49m\u001B[38;5;241;43m.\u001B[39;49m\u001B[43mcompile_extra\u001B[49m\u001B[43m(\u001B[49m\u001B[43mtypingctx\u001B[49m\u001B[38;5;241;43m=\u001B[39;49m\u001B[43mtypingctx\u001B[49m\u001B[43m,\u001B[49m\n\u001B[0;32m    197\u001B[0m \u001B[43m                                  \u001B[49m\u001B[43mtargetctx\u001B[49m\u001B[38;5;241;43m=\u001B[39;49m\u001B[43mtargetctx\u001B[49m\u001B[43m,\u001B[49m\n\u001B[0;32m    198\u001B[0m \u001B[43m                                  \u001B[49m\u001B[43mfunc\u001B[49m\u001B[38;5;241;43m=\u001B[39;49m\u001B[43mpyfunc\u001B[49m\u001B[43m,\u001B[49m\n\u001B[0;32m    199\u001B[0m \u001B[43m                                  \u001B[49m\u001B[43margs\u001B[49m\u001B[38;5;241;43m=\u001B[39;49m\u001B[43margs\u001B[49m\u001B[43m,\u001B[49m\n\u001B[0;32m    200\u001B[0m \u001B[43m                                  \u001B[49m\u001B[43mreturn_type\u001B[49m\u001B[38;5;241;43m=\u001B[39;49m\u001B[43mreturn_type\u001B[49m\u001B[43m,\u001B[49m\n\u001B[0;32m    201\u001B[0m \u001B[43m                                  \u001B[49m\u001B[43mflags\u001B[49m\u001B[38;5;241;43m=\u001B[39;49m\u001B[43mflags\u001B[49m\u001B[43m,\u001B[49m\n\u001B[0;32m    202\u001B[0m \u001B[43m                                  \u001B[49m\u001B[38;5;28;43mlocals\u001B[39;49m\u001B[38;5;241;43m=\u001B[39;49m\u001B[43m{\u001B[49m\u001B[43m}\u001B[49m\u001B[43m,\u001B[49m\n\u001B[0;32m    203\u001B[0m \u001B[43m                                  \u001B[49m\u001B[43mpipeline_class\u001B[49m\u001B[38;5;241;43m=\u001B[39;49m\u001B[43mCUDACompiler\u001B[49m\u001B[43m)\u001B[49m\n\u001B[0;32m    205\u001B[0m library \u001B[38;5;241m=\u001B[39m cres\u001B[38;5;241m.\u001B[39mlibrary\n\u001B[0;32m    206\u001B[0m library\u001B[38;5;241m.\u001B[39mfinalize()\n",
      "File \u001B[1;32mD:\\anaconda\\envs\\gpu\\lib\\site-packages\\numba\\core\\compiler.py:751\u001B[0m, in \u001B[0;36mcompile_extra\u001B[1;34m(typingctx, targetctx, func, args, return_type, flags, locals, library, pipeline_class)\u001B[0m\n\u001B[0;32m    727\u001B[0m \u001B[38;5;250m\u001B[39m\u001B[38;5;124;03m\"\"\"Compiler entry point\u001B[39;00m\n\u001B[0;32m    728\u001B[0m \n\u001B[0;32m    729\u001B[0m \u001B[38;5;124;03mParameter\u001B[39;00m\n\u001B[1;32m   (...)\u001B[0m\n\u001B[0;32m    747\u001B[0m \u001B[38;5;124;03m    compiler pipeline\u001B[39;00m\n\u001B[0;32m    748\u001B[0m \u001B[38;5;124;03m\"\"\"\u001B[39;00m\n\u001B[0;32m    749\u001B[0m pipeline \u001B[38;5;241m=\u001B[39m pipeline_class(typingctx, targetctx, library,\n\u001B[0;32m    750\u001B[0m                           args, return_type, flags, \u001B[38;5;28mlocals\u001B[39m)\n\u001B[1;32m--> 751\u001B[0m \u001B[38;5;28;01mreturn\u001B[39;00m \u001B[43mpipeline\u001B[49m\u001B[38;5;241;43m.\u001B[39;49m\u001B[43mcompile_extra\u001B[49m\u001B[43m(\u001B[49m\u001B[43mfunc\u001B[49m\u001B[43m)\u001B[49m\n",
      "File \u001B[1;32mD:\\anaconda\\envs\\gpu\\lib\\site-packages\\numba\\core\\compiler.py:445\u001B[0m, in \u001B[0;36mCompilerBase.compile_extra\u001B[1;34m(self, func)\u001B[0m\n\u001B[0;32m    443\u001B[0m \u001B[38;5;28mself\u001B[39m\u001B[38;5;241m.\u001B[39mstate\u001B[38;5;241m.\u001B[39mlifted \u001B[38;5;241m=\u001B[39m ()\n\u001B[0;32m    444\u001B[0m \u001B[38;5;28mself\u001B[39m\u001B[38;5;241m.\u001B[39mstate\u001B[38;5;241m.\u001B[39mlifted_from \u001B[38;5;241m=\u001B[39m \u001B[38;5;28;01mNone\u001B[39;00m\n\u001B[1;32m--> 445\u001B[0m \u001B[38;5;28;01mreturn\u001B[39;00m \u001B[38;5;28;43mself\u001B[39;49m\u001B[38;5;241;43m.\u001B[39;49m\u001B[43m_compile_bytecode\u001B[49m\u001B[43m(\u001B[49m\u001B[43m)\u001B[49m\n",
      "File \u001B[1;32mD:\\anaconda\\envs\\gpu\\lib\\site-packages\\numba\\core\\compiler.py:513\u001B[0m, in \u001B[0;36mCompilerBase._compile_bytecode\u001B[1;34m(self)\u001B[0m\n\u001B[0;32m    509\u001B[0m \u001B[38;5;250m\u001B[39m\u001B[38;5;124;03m\"\"\"\u001B[39;00m\n\u001B[0;32m    510\u001B[0m \u001B[38;5;124;03mPopulate and run pipeline for bytecode input\u001B[39;00m\n\u001B[0;32m    511\u001B[0m \u001B[38;5;124;03m\"\"\"\u001B[39;00m\n\u001B[0;32m    512\u001B[0m \u001B[38;5;28;01massert\u001B[39;00m \u001B[38;5;28mself\u001B[39m\u001B[38;5;241m.\u001B[39mstate\u001B[38;5;241m.\u001B[39mfunc_ir \u001B[38;5;129;01mis\u001B[39;00m \u001B[38;5;28;01mNone\u001B[39;00m\n\u001B[1;32m--> 513\u001B[0m \u001B[38;5;28;01mreturn\u001B[39;00m \u001B[38;5;28;43mself\u001B[39;49m\u001B[38;5;241;43m.\u001B[39;49m\u001B[43m_compile_core\u001B[49m\u001B[43m(\u001B[49m\u001B[43m)\u001B[49m\n",
      "File \u001B[1;32mD:\\anaconda\\envs\\gpu\\lib\\site-packages\\numba\\core\\compiler.py:492\u001B[0m, in \u001B[0;36mCompilerBase._compile_core\u001B[1;34m(self)\u001B[0m\n\u001B[0;32m    490\u001B[0m         \u001B[38;5;28mself\u001B[39m\u001B[38;5;241m.\u001B[39mstate\u001B[38;5;241m.\u001B[39mstatus\u001B[38;5;241m.\u001B[39mfail_reason \u001B[38;5;241m=\u001B[39m e\n\u001B[0;32m    491\u001B[0m         \u001B[38;5;28;01mif\u001B[39;00m is_final_pipeline:\n\u001B[1;32m--> 492\u001B[0m             \u001B[38;5;28;01mraise\u001B[39;00m e\n\u001B[0;32m    493\u001B[0m \u001B[38;5;28;01melse\u001B[39;00m:\n\u001B[0;32m    494\u001B[0m     \u001B[38;5;28;01mraise\u001B[39;00m CompilerError(\u001B[38;5;124m\"\u001B[39m\u001B[38;5;124mAll available pipelines exhausted\u001B[39m\u001B[38;5;124m\"\u001B[39m)\n",
      "File \u001B[1;32mD:\\anaconda\\envs\\gpu\\lib\\site-packages\\numba\\core\\compiler.py:479\u001B[0m, in \u001B[0;36mCompilerBase._compile_core\u001B[1;34m(self)\u001B[0m\n\u001B[0;32m    477\u001B[0m res \u001B[38;5;241m=\u001B[39m \u001B[38;5;28;01mNone\u001B[39;00m\n\u001B[0;32m    478\u001B[0m \u001B[38;5;28;01mtry\u001B[39;00m:\n\u001B[1;32m--> 479\u001B[0m     \u001B[43mpm\u001B[49m\u001B[38;5;241;43m.\u001B[39;49m\u001B[43mrun\u001B[49m\u001B[43m(\u001B[49m\u001B[38;5;28;43mself\u001B[39;49m\u001B[38;5;241;43m.\u001B[39;49m\u001B[43mstate\u001B[49m\u001B[43m)\u001B[49m\n\u001B[0;32m    480\u001B[0m     \u001B[38;5;28;01mif\u001B[39;00m \u001B[38;5;28mself\u001B[39m\u001B[38;5;241m.\u001B[39mstate\u001B[38;5;241m.\u001B[39mcr \u001B[38;5;129;01mis\u001B[39;00m \u001B[38;5;129;01mnot\u001B[39;00m \u001B[38;5;28;01mNone\u001B[39;00m:\n\u001B[0;32m    481\u001B[0m         \u001B[38;5;28;01mbreak\u001B[39;00m\n",
      "File \u001B[1;32mD:\\anaconda\\envs\\gpu\\lib\\site-packages\\numba\\core\\compiler_machinery.py:368\u001B[0m, in \u001B[0;36mPassManager.run\u001B[1;34m(self, state)\u001B[0m\n\u001B[0;32m    365\u001B[0m msg \u001B[38;5;241m=\u001B[39m \u001B[38;5;124m\"\u001B[39m\u001B[38;5;124mFailed in \u001B[39m\u001B[38;5;132;01m%s\u001B[39;00m\u001B[38;5;124m mode pipeline (step: \u001B[39m\u001B[38;5;132;01m%s\u001B[39;00m\u001B[38;5;124m)\u001B[39m\u001B[38;5;124m\"\u001B[39m \u001B[38;5;241m%\u001B[39m \\\n\u001B[0;32m    366\u001B[0m     (\u001B[38;5;28mself\u001B[39m\u001B[38;5;241m.\u001B[39mpipeline_name, pass_desc)\n\u001B[0;32m    367\u001B[0m patched_exception \u001B[38;5;241m=\u001B[39m \u001B[38;5;28mself\u001B[39m\u001B[38;5;241m.\u001B[39m_patch_error(msg, e)\n\u001B[1;32m--> 368\u001B[0m \u001B[38;5;28;01mraise\u001B[39;00m patched_exception\n",
      "File \u001B[1;32mD:\\anaconda\\envs\\gpu\\lib\\site-packages\\numba\\core\\compiler_machinery.py:356\u001B[0m, in \u001B[0;36mPassManager.run\u001B[1;34m(self, state)\u001B[0m\n\u001B[0;32m    354\u001B[0m pass_inst \u001B[38;5;241m=\u001B[39m _pass_registry\u001B[38;5;241m.\u001B[39mget(pss)\u001B[38;5;241m.\u001B[39mpass_inst\n\u001B[0;32m    355\u001B[0m \u001B[38;5;28;01mif\u001B[39;00m \u001B[38;5;28misinstance\u001B[39m(pass_inst, CompilerPass):\n\u001B[1;32m--> 356\u001B[0m     \u001B[38;5;28;43mself\u001B[39;49m\u001B[38;5;241;43m.\u001B[39;49m\u001B[43m_runPass\u001B[49m\u001B[43m(\u001B[49m\u001B[43midx\u001B[49m\u001B[43m,\u001B[49m\u001B[43m \u001B[49m\u001B[43mpass_inst\u001B[49m\u001B[43m,\u001B[49m\u001B[43m \u001B[49m\u001B[43mstate\u001B[49m\u001B[43m)\u001B[49m\n\u001B[0;32m    357\u001B[0m \u001B[38;5;28;01melse\u001B[39;00m:\n\u001B[0;32m    358\u001B[0m     \u001B[38;5;28;01mraise\u001B[39;00m \u001B[38;5;167;01mBaseException\u001B[39;00m(\u001B[38;5;124m\"\u001B[39m\u001B[38;5;124mLegacy pass in use\u001B[39m\u001B[38;5;124m\"\u001B[39m)\n",
      "File \u001B[1;32mD:\\anaconda\\envs\\gpu\\lib\\site-packages\\numba\\core\\compiler_lock.py:35\u001B[0m, in \u001B[0;36m_CompilerLock.__call__.<locals>._acquire_compile_lock\u001B[1;34m(*args, **kwargs)\u001B[0m\n\u001B[0;32m     32\u001B[0m \u001B[38;5;129m@functools\u001B[39m\u001B[38;5;241m.\u001B[39mwraps(func)\n\u001B[0;32m     33\u001B[0m \u001B[38;5;28;01mdef\u001B[39;00m \u001B[38;5;21m_acquire_compile_lock\u001B[39m(\u001B[38;5;241m*\u001B[39margs, \u001B[38;5;241m*\u001B[39m\u001B[38;5;241m*\u001B[39mkwargs):\n\u001B[0;32m     34\u001B[0m     \u001B[38;5;28;01mwith\u001B[39;00m \u001B[38;5;28mself\u001B[39m:\n\u001B[1;32m---> 35\u001B[0m         \u001B[38;5;28;01mreturn\u001B[39;00m func(\u001B[38;5;241m*\u001B[39margs, \u001B[38;5;241m*\u001B[39m\u001B[38;5;241m*\u001B[39mkwargs)\n",
      "File \u001B[1;32mD:\\anaconda\\envs\\gpu\\lib\\site-packages\\numba\\core\\compiler_machinery.py:311\u001B[0m, in \u001B[0;36mPassManager._runPass\u001B[1;34m(self, index, pss, internal_state)\u001B[0m\n\u001B[0;32m    309\u001B[0m     mutated \u001B[38;5;241m|\u001B[39m\u001B[38;5;241m=\u001B[39m check(pss\u001B[38;5;241m.\u001B[39mrun_initialization, internal_state)\n\u001B[0;32m    310\u001B[0m \u001B[38;5;28;01mwith\u001B[39;00m SimpleTimer() \u001B[38;5;28;01mas\u001B[39;00m pass_time:\n\u001B[1;32m--> 311\u001B[0m     mutated \u001B[38;5;241m|\u001B[39m\u001B[38;5;241m=\u001B[39m \u001B[43mcheck\u001B[49m\u001B[43m(\u001B[49m\u001B[43mpss\u001B[49m\u001B[38;5;241;43m.\u001B[39;49m\u001B[43mrun_pass\u001B[49m\u001B[43m,\u001B[49m\u001B[43m \u001B[49m\u001B[43minternal_state\u001B[49m\u001B[43m)\u001B[49m\n\u001B[0;32m    312\u001B[0m \u001B[38;5;28;01mwith\u001B[39;00m SimpleTimer() \u001B[38;5;28;01mas\u001B[39;00m finalize_time:\n\u001B[0;32m    313\u001B[0m     mutated \u001B[38;5;241m|\u001B[39m\u001B[38;5;241m=\u001B[39m check(pss\u001B[38;5;241m.\u001B[39mrun_finalizer, internal_state)\n",
      "File \u001B[1;32mD:\\anaconda\\envs\\gpu\\lib\\site-packages\\numba\\core\\compiler_machinery.py:273\u001B[0m, in \u001B[0;36mPassManager._runPass.<locals>.check\u001B[1;34m(func, compiler_state)\u001B[0m\n\u001B[0;32m    272\u001B[0m \u001B[38;5;28;01mdef\u001B[39;00m \u001B[38;5;21mcheck\u001B[39m(func, compiler_state):\n\u001B[1;32m--> 273\u001B[0m     mangled \u001B[38;5;241m=\u001B[39m \u001B[43mfunc\u001B[49m\u001B[43m(\u001B[49m\u001B[43mcompiler_state\u001B[49m\u001B[43m)\u001B[49m\n\u001B[0;32m    274\u001B[0m     \u001B[38;5;28;01mif\u001B[39;00m mangled \u001B[38;5;129;01mnot\u001B[39;00m \u001B[38;5;129;01min\u001B[39;00m (\u001B[38;5;28;01mTrue\u001B[39;00m, \u001B[38;5;28;01mFalse\u001B[39;00m):\n\u001B[0;32m    275\u001B[0m         msg \u001B[38;5;241m=\u001B[39m (\u001B[38;5;124m\"\u001B[39m\u001B[38;5;124mCompilerPass implementations should return True/False. \u001B[39m\u001B[38;5;124m\"\u001B[39m\n\u001B[0;32m    276\u001B[0m                \u001B[38;5;124m\"\u001B[39m\u001B[38;5;124mCompilerPass with name \u001B[39m\u001B[38;5;124m'\u001B[39m\u001B[38;5;132;01m%s\u001B[39;00m\u001B[38;5;124m'\u001B[39m\u001B[38;5;124m did not.\u001B[39m\u001B[38;5;124m\"\u001B[39m)\n",
      "File \u001B[1;32mD:\\anaconda\\envs\\gpu\\lib\\site-packages\\numba\\core\\typed_passes.py:112\u001B[0m, in \u001B[0;36mBaseTypeInference.run_pass\u001B[1;34m(self, state)\u001B[0m\n\u001B[0;32m    106\u001B[0m \u001B[38;5;250m\u001B[39m\u001B[38;5;124;03m\"\"\"\u001B[39;00m\n\u001B[0;32m    107\u001B[0m \u001B[38;5;124;03mType inference and legalization\u001B[39;00m\n\u001B[0;32m    108\u001B[0m \u001B[38;5;124;03m\"\"\"\u001B[39;00m\n\u001B[0;32m    109\u001B[0m \u001B[38;5;28;01mwith\u001B[39;00m fallback_context(state, \u001B[38;5;124m'\u001B[39m\u001B[38;5;124mFunction \u001B[39m\u001B[38;5;124m\"\u001B[39m\u001B[38;5;132;01m%s\u001B[39;00m\u001B[38;5;124m\"\u001B[39m\u001B[38;5;124m failed type inference\u001B[39m\u001B[38;5;124m'\u001B[39m\n\u001B[0;32m    110\u001B[0m                       \u001B[38;5;241m%\u001B[39m (state\u001B[38;5;241m.\u001B[39mfunc_id\u001B[38;5;241m.\u001B[39mfunc_name,)):\n\u001B[0;32m    111\u001B[0m     \u001B[38;5;66;03m# Type inference\u001B[39;00m\n\u001B[1;32m--> 112\u001B[0m     typemap, return_type, calltypes, errs \u001B[38;5;241m=\u001B[39m \u001B[43mtype_inference_stage\u001B[49m\u001B[43m(\u001B[49m\n\u001B[0;32m    113\u001B[0m \u001B[43m        \u001B[49m\u001B[43mstate\u001B[49m\u001B[38;5;241;43m.\u001B[39;49m\u001B[43mtypingctx\u001B[49m\u001B[43m,\u001B[49m\n\u001B[0;32m    114\u001B[0m \u001B[43m        \u001B[49m\u001B[43mstate\u001B[49m\u001B[38;5;241;43m.\u001B[39;49m\u001B[43mtargetctx\u001B[49m\u001B[43m,\u001B[49m\n\u001B[0;32m    115\u001B[0m \u001B[43m        \u001B[49m\u001B[43mstate\u001B[49m\u001B[38;5;241;43m.\u001B[39;49m\u001B[43mfunc_ir\u001B[49m\u001B[43m,\u001B[49m\n\u001B[0;32m    116\u001B[0m \u001B[43m        \u001B[49m\u001B[43mstate\u001B[49m\u001B[38;5;241;43m.\u001B[39;49m\u001B[43margs\u001B[49m\u001B[43m,\u001B[49m\n\u001B[0;32m    117\u001B[0m \u001B[43m        \u001B[49m\u001B[43mstate\u001B[49m\u001B[38;5;241;43m.\u001B[39;49m\u001B[43mreturn_type\u001B[49m\u001B[43m,\u001B[49m\n\u001B[0;32m    118\u001B[0m \u001B[43m        \u001B[49m\u001B[43mstate\u001B[49m\u001B[38;5;241;43m.\u001B[39;49m\u001B[43mlocals\u001B[49m\u001B[43m,\u001B[49m\n\u001B[0;32m    119\u001B[0m \u001B[43m        \u001B[49m\u001B[43mraise_errors\u001B[49m\u001B[38;5;241;43m=\u001B[39;49m\u001B[38;5;28;43mself\u001B[39;49m\u001B[38;5;241;43m.\u001B[39;49m\u001B[43m_raise_errors\u001B[49m\u001B[43m)\u001B[49m\n\u001B[0;32m    120\u001B[0m     state\u001B[38;5;241m.\u001B[39mtypemap \u001B[38;5;241m=\u001B[39m typemap\n\u001B[0;32m    121\u001B[0m     \u001B[38;5;66;03m# save errors in case of partial typing\u001B[39;00m\n",
      "File \u001B[1;32mD:\\anaconda\\envs\\gpu\\lib\\site-packages\\numba\\core\\typed_passes.py:93\u001B[0m, in \u001B[0;36mtype_inference_stage\u001B[1;34m(typingctx, targetctx, interp, args, return_type, locals, raise_errors)\u001B[0m\n\u001B[0;32m     91\u001B[0m     infer\u001B[38;5;241m.\u001B[39mbuild_constraint()\n\u001B[0;32m     92\u001B[0m     \u001B[38;5;66;03m# return errors in case of partial typing\u001B[39;00m\n\u001B[1;32m---> 93\u001B[0m     errs \u001B[38;5;241m=\u001B[39m \u001B[43minfer\u001B[49m\u001B[38;5;241;43m.\u001B[39;49m\u001B[43mpropagate\u001B[49m\u001B[43m(\u001B[49m\u001B[43mraise_errors\u001B[49m\u001B[38;5;241;43m=\u001B[39;49m\u001B[43mraise_errors\u001B[49m\u001B[43m)\u001B[49m\n\u001B[0;32m     94\u001B[0m     typemap, restype, calltypes \u001B[38;5;241m=\u001B[39m infer\u001B[38;5;241m.\u001B[39munify(raise_errors\u001B[38;5;241m=\u001B[39mraise_errors)\n\u001B[0;32m     96\u001B[0m \u001B[38;5;28;01mreturn\u001B[39;00m _TypingResults(typemap, restype, calltypes, errs)\n",
      "File \u001B[1;32mD:\\anaconda\\envs\\gpu\\lib\\site-packages\\numba\\core\\typeinfer.py:1091\u001B[0m, in \u001B[0;36mTypeInferer.propagate\u001B[1;34m(self, raise_errors)\u001B[0m\n\u001B[0;32m   1088\u001B[0m force_lit_args \u001B[38;5;241m=\u001B[39m [e \u001B[38;5;28;01mfor\u001B[39;00m e \u001B[38;5;129;01min\u001B[39;00m errors\n\u001B[0;32m   1089\u001B[0m                   \u001B[38;5;28;01mif\u001B[39;00m \u001B[38;5;28misinstance\u001B[39m(e, ForceLiteralArg)]\n\u001B[0;32m   1090\u001B[0m \u001B[38;5;28;01mif\u001B[39;00m \u001B[38;5;129;01mnot\u001B[39;00m force_lit_args:\n\u001B[1;32m-> 1091\u001B[0m     \u001B[38;5;28;01mraise\u001B[39;00m errors[\u001B[38;5;241m0\u001B[39m]\n\u001B[0;32m   1092\u001B[0m \u001B[38;5;28;01melse\u001B[39;00m:\n\u001B[0;32m   1093\u001B[0m     \u001B[38;5;28;01mraise\u001B[39;00m reduce(operator\u001B[38;5;241m.\u001B[39mor_, force_lit_args)\n",
      "\u001B[1;31mTypingError\u001B[0m: Failed in cuda mode pipeline (step: nopython frontend)\n\u001B[1m\u001B[1m('wrong tuple length for $18load_attr.8: ', 'expected 2, got 3')\u001B[0m\n\u001B[0m\u001B[1mDuring: typing of exhaust iter at C:\\Users\\appad\\AppData\\Local\\Temp\\ipykernel_36620\\955992347.py (14)\u001B[0m\n\u001B[1m\nFile \"C:\\Users\\appad\\AppData\\Local\\Temp\\ipykernel_36620\\955992347.py\", line 14:\u001B[0m\n\u001B[1mdef convolve(result, mask, image):\n    <source elided>\n    # (-3-) if the thread coordinates are outside of the image, we ignore the thread:\n\u001B[1m    image_rows, image_cols = image.shape\n\u001B[0m    \u001B[1m^\u001B[0m\u001B[0m\n"
     ]
    }
   ],
   "source": [
    "# do edge detection with sobel filter\n",
    "sobel_x = np.array([[-1, 0, 1],\n",
    "                    [-2, 0, 2],\n",
    "                    [-1, 0, 1]])\n",
    "\n",
    "sobel_y = np.array([[-1, -2, -1],\n",
    "                    [0, 0, 0],\n",
    "                    [1, 2, 1]])\n",
    "\n",
    "scharr = np.array([[-3, 0, 3],\n",
    "                   [-10, 0, 10],\n",
    "                   [-3, 0, 3]])\n",
    "# create output array\n",
    "output_x = np.zeros_like(img)\n",
    "output_y = np.zeros_like(img)\n",
    "output_scharr = np.zeros_like(img)\n",
    "\n",
    "# create a cuda device array\n",
    "d_input = cuda.to_device(img, stream)\n",
    "d_output_x = cuda.to_device(output_x, stream)\n",
    "d_output_y = cuda.to_device(output_y, stream)\n",
    "d_output_scharr = cuda.to_device(output_scharr, stream)\n",
    "d_sobel_x = cuda.to_device(sobel_x, stream)\n",
    "d_sobel_y = cuda.to_device(sobel_y, stream)\n",
    "d_scharr = cuda.to_device(scharr, stream)\n",
    "\n",
    "# run the kernel\n",
    "convolve[blockspergrid, threadsperblock, stream](d_output_x, d_sobel_x, d_input)\n",
    "convolve[blockspergrid, threadsperblock, stream](d_output_y, d_sobel_y, d_input)\n",
    "convolve[blockspergrid, threadsperblock, stream](d_output_scharr, d_scharr, d_input)\n",
    "\n",
    "# copy the output back to the host\n",
    "d_output_x.copy_to_host(output_x, stream=stream)\n",
    "d_output_y.copy_to_host(output_y, stream=stream)\n",
    "d_output_scharr.copy_to_host(output_scharr, stream=stream)\n",
    "\n",
    "\"\"\"\n",
    "Ixy=sqrt(Ix^2+Iy^2)\n",
    "\"\"\"\n",
    "output = np.sqrt(output_x ** 2 + output_y ** 2)\n",
    "\n",
    "\n"
   ],
   "metadata": {
    "collapsed": false,
    "ExecuteTime": {
     "end_time": "2024-04-21T14:04:34.092853Z",
     "start_time": "2024-04-21T14:04:33.240039Z"
    }
   },
   "id": "17066ababab88d48"
  },
  {
   "cell_type": "code",
   "execution_count": null,
   "outputs": [],
   "source": [
    "# display the output\n",
    "output = Image.fromarray(output_y)\n",
    "output.show()"
   ],
   "metadata": {
    "collapsed": false,
    "ExecuteTime": {
     "end_time": "2024-04-21T14:04:34.097865Z",
     "start_time": "2024-04-21T14:04:34.094861800Z"
    }
   },
   "id": "efe7a3bf43bfbefd"
  }
 ],
 "metadata": {
  "kernelspec": {
   "display_name": "Python 3",
   "language": "python",
   "name": "python3"
  },
  "language_info": {
   "codemirror_mode": {
    "name": "ipython",
    "version": 2
   },
   "file_extension": ".py",
   "mimetype": "text/x-python",
   "name": "python",
   "nbconvert_exporter": "python",
   "pygments_lexer": "ipython2",
   "version": "2.7.6"
  }
 },
 "nbformat": 4,
 "nbformat_minor": 5
}
